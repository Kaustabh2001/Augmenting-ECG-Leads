{
 "cells": [
  {
   "cell_type": "code",
   "execution_count": 1,
   "id": "cd705171",
   "metadata": {},
   "outputs": [],
   "source": [
    "import pandas as pd\n",
    "import numpy as np\n",
    "import wfdb\n",
    "import os\n",
    "import json"
   ]
  },
  {
   "cell_type": "code",
   "execution_count": 2,
   "id": "274d7bc2",
   "metadata": {},
   "outputs": [],
   "source": [
    "# set working directory first\n",
    "wd = 'E:/ECG Analysis'\n",
    "destination = 'E:/ECG Analysis/Dataset'\n",
    "patient_files = [file for file in os.listdir(\"E:/ECG Analysis/PTDBD ECG/\") if 'patient' in file]"
   ]
  },
  {
   "cell_type": "code",
   "execution_count": 3,
   "id": "c2272b7a",
   "metadata": {},
   "outputs": [],
   "source": [
    "for participant in patient_files:\n",
    "    path = wd + \"\\\\PTDBD ECG\\\\\" + participant\n",
    "    filename_all = [i for i in os.listdir(path) if \".dat\" in i]\n",
    "    os.mkdir(destination+'/'+participant)\n",
    "    patient_destination=destination+'/'+participant\n",
    "    #creating csv for the individual ECG signal data recorded\n",
    "    for filename in filename_all:\n",
    "        file = path + \"\\\\\" + filename\n",
    "        # get signal\n",
    "        data = dict()\n",
    "        for i in range(15):\n",
    "            signal_name = wfdb.rdsamp(record_name=file[:-4])[1]['sig_name'][i]\n",
    "            signal = wfdb.rdsamp(record_name=file[:-4])[0][:, i]\n",
    "            data[str(signal_name)]=signal\n",
    "        df=pd.DataFrame(data)\n",
    "        #saving ECG signal CSV\n",
    "        df.to_csv(patient_destination+'/'+filename[:-4]+'.csv')\n",
    "    #creating metadata json\n",
    "    meta_data = dict()\n",
    "    meta_data[\"Participant\"] = participant\n",
    "    meta_data[\"Sampling_Rate\"] = 1000\n",
    "    meta_data[\"Database\"] = \"PTB-Diagnostic-ECG-Database-1.0.0\"\n",
    "    try:\n",
    "        meta_data[\"Sex\"] = wfdb.rdsamp(file[:-4])[1]['comments'][1][5:]\n",
    "        meta_data[\"Age\"] = wfdb.rdsamp(file[:-4])[1]['comments'][0][5:]\n",
    "    except:\n",
    "        meta_data[\"Sex\"] = \"Unknown\"\n",
    "        meta_data[\"Age\"] = \"Unknown\"\n",
    "    #opening header file\n",
    "    header_file=[i for i in os.listdir(path) if \".hea\" in i][0]\n",
    "    with open(path+\"/\"+header_file) as f:\n",
    "        d=f.readlines()\n",
    "    meta_data[\"Diagnosis\"] = [i[24:][:-1] for i in d if \"Reason for admission\" in i][0]\n",
    "    # saving metadata\n",
    "    out_file = open(os.path.join(patient_destination,\"metadata.json\"), \"w\")  \n",
    "    json.dump(meta_data, out_file, indent = 6)  \n",
    "    out_file.close()"
   ]
  },
  {
   "cell_type": "code",
   "execution_count": null,
   "id": "26da63b1",
   "metadata": {},
   "outputs": [],
   "source": []
  }
 ],
 "metadata": {
  "kernelspec": {
   "display_name": "Python 3 (ipykernel)",
   "language": "python",
   "name": "python3"
  },
  "language_info": {
   "codemirror_mode": {
    "name": "ipython",
    "version": 3
   },
   "file_extension": ".py",
   "mimetype": "text/x-python",
   "name": "python",
   "nbconvert_exporter": "python",
   "pygments_lexer": "ipython3",
   "version": "3.10.10"
  }
 },
 "nbformat": 4,
 "nbformat_minor": 5
}
