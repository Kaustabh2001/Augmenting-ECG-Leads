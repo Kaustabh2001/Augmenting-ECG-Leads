{
 "cells": [
  {
   "cell_type": "code",
   "execution_count": 1,
   "id": "6d70f265",
   "metadata": {},
   "outputs": [],
   "source": [
    "import numpy as np\n",
    "import pickle as pk\n",
    "import pandas as pd\n",
    "import json\n",
    "import os\n",
    "import neurokit2 as nk"
   ]
  },
  {
   "cell_type": "code",
   "execution_count": 2,
   "id": "4ebbf79d",
   "metadata": {},
   "outputs": [],
   "source": [
    "raw_data_loc='E:/ECG Analysis/Dataset'\n",
    "lead_ii=[]\n",
    "lead_i=[]\n",
    "lead_v1=[]\n",
    "lead_v2=[]\n",
    "lead_v3=[]\n",
    "lead_v4=[]\n",
    "lead_v5=[]\n",
    "lead_v6=[]"
   ]
  },
  {
   "cell_type": "code",
   "execution_count": 3,
   "id": "4f4af213",
   "metadata": {},
   "outputs": [],
   "source": [
    "def break_signal(data, signal):\n",
    "    signal = list(signal)\n",
    "    for i in range(1000, len(signal), 1000):\n",
    "        data.append(signal[i-1000:i])\n",
    "    return data"
   ]
  },
  {
   "cell_type": "code",
   "execution_count": 4,
   "id": "09cc649d",
   "metadata": {},
   "outputs": [],
   "source": [
    "for folder in os.listdir(raw_data_loc):\n",
    "    folder_loc = os.path.join(raw_data_loc,folder)\n",
    "    all_files = os.listdir(folder_loc)\n",
    "    meta_data_file = [i for i in all_files if \".json\" in i][0]\n",
    "    f = open(os.path.join(folder_loc, meta_data_file))\n",
    "    meta_data = json.load(f)\n",
    "    f.close()\n",
    "    if not meta_data[\"Diagnosis\"] == \"Myocardial infarction\":\n",
    "        continue;\n",
    "    signal_files = [i for i in all_files if \".csv\" in i]\n",
    "    for file in signal_files:\n",
    "        df=pd.read_csv(os.path.join(folder_loc, file))\n",
    "        break_signal(lead_ii, df['ii'])\n",
    "        break_signal(lead_i, df['i'])\n",
    "        break_signal(lead_v1, df['v1'])\n",
    "        break_signal(lead_v2, df['v2'])\n",
    "        break_signal(lead_v3, df['v3'])\n",
    "        break_signal(lead_v4, df['v4'])\n",
    "        break_signal(lead_v5, df['v5'])\n",
    "        break_signal(lead_v6, df['v6'])"
   ]
  },
  {
   "cell_type": "code",
   "execution_count": 5,
   "id": "1a2098eb",
   "metadata": {},
   "outputs": [],
   "source": [
    "np.save(\"E:/ECG Analysis/Data for Model/Lead_ii.npy\", np.array(lead_ii))\n",
    "np.save(\"E:/ECG Analysis/Data for Model/Lead_i.npy\", np.array(lead_i))\n",
    "np.save(\"E:/ECG Analysis/Data for Model/Lead_v1.npy\", np.array(lead_v1))\n",
    "np.save(\"E:/ECG Analysis/Data for Model/Lead_v2.npy\", np.array(lead_v2))\n",
    "np.save(\"E:/ECG Analysis/Data for Model/Lead_v3.npy\", np.array(lead_v3))\n",
    "np.save(\"E:/ECG Analysis/Data for Model/Lead_v4.npy\", np.array(lead_v4))\n",
    "np.save(\"E:/ECG Analysis/Data for Model/Lead_v5.npy\", np.array(lead_v5))\n",
    "np.save(\"E:/ECG Analysis/Data for Model/Lead_v6.npy\", np.array(lead_v6))"
   ]
  }
 ],
 "metadata": {
  "kernelspec": {
   "display_name": "Python 3 (ipykernel)",
   "language": "python",
   "name": "python3"
  },
  "language_info": {
   "codemirror_mode": {
    "name": "ipython",
    "version": 3
   },
   "file_extension": ".py",
   "mimetype": "text/x-python",
   "name": "python",
   "nbconvert_exporter": "python",
   "pygments_lexer": "ipython3",
   "version": "3.10.10"
  }
 },
 "nbformat": 4,
 "nbformat_minor": 5
}
