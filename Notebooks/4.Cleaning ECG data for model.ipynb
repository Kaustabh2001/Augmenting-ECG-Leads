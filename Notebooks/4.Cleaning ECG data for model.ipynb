{
 "cells": [
  {
   "cell_type": "code",
   "execution_count": 1,
   "id": "49e2d883",
   "metadata": {},
   "outputs": [],
   "source": [
    "import numpy as np\n",
    "import os\n",
    "import neurokit2 as nk"
   ]
  },
  {
   "cell_type": "code",
   "execution_count": 2,
   "id": "3b7c03be",
   "metadata": {},
   "outputs": [],
   "source": [
    "clean_data = dict()"
   ]
  },
  {
   "cell_type": "code",
   "execution_count": 3,
   "id": "ed7d3c10",
   "metadata": {},
   "outputs": [],
   "source": [
    "clean_data[\"ii\"] = list()\n",
    "clean_data[\"i\"] = list()\n",
    "clean_data[\"v1\"] = list()\n",
    "clean_data[\"v2\"] = list()\n",
    "clean_data[\"v3\"] = list()\n",
    "clean_data[\"v4\"] = list()\n",
    "clean_data[\"v5\"] = list()\n",
    "clean_data[\"v6\"] = list()"
   ]
  },
  {
   "cell_type": "code",
   "execution_count": 4,
   "id": "c95b8c6d",
   "metadata": {},
   "outputs": [],
   "source": [
    "unclean_data = dict()"
   ]
  },
  {
   "cell_type": "code",
   "execution_count": 5,
   "id": "735b077a",
   "metadata": {},
   "outputs": [],
   "source": [
    "unclean_data[\"ii\"]  = np.load(\"E:/ECG Analysis/Data for Model/Lead_ii.npy\")\n",
    "unclean_data[\"i\"] = np.load(\"E:/ECG Analysis/Data for Model/Lead_i.npy\")\n",
    "unclean_data[\"v1\"]  = np.load(\"E:/ECG Analysis/Data for Model/Lead_v1.npy\")\n",
    "unclean_data[\"v2\"]  = np.load(\"E:/ECG Analysis/Data for Model/Lead_v2.npy\")\n",
    "unclean_data[\"v3\"]  = np.load(\"E:/ECG Analysis/Data for Model/Lead_v3.npy\")\n",
    "unclean_data[\"v4\"]  = np.load(\"E:/ECG Analysis/Data for Model/Lead_v4.npy\")\n",
    "unclean_data[\"v5\"]  = np.load(\"E:/ECG Analysis/Data for Model/Lead_v5.npy\")\n",
    "unclean_data[\"v6\"]  = np.load(\"E:/ECG Analysis/Data for Model/Lead_v6.npy\")"
   ]
  },
  {
   "cell_type": "code",
   "execution_count": 6,
   "id": "2b12f520",
   "metadata": {
    "scrolled": true
   },
   "outputs": [],
   "source": [
    "for i in unclean_data.keys():\n",
    "    for j in unclean_data[i]:\n",
    "        signal = nk.ecg_clean(j, sampling_rate=1000)\n",
    "        clean_data[i].append(list(signal))"
   ]
  },
  {
   "cell_type": "code",
   "execution_count": 7,
   "id": "44badf85",
   "metadata": {},
   "outputs": [],
   "source": [
    "for i in clean_data.keys():\n",
    "    np.save(os.path.join(\"E:/ECG Analysis/Data for Model\",\"cleaned_lead_\"+str(i)+\".npy\"), np.array(clean_data[i]))"
   ]
  }
 ],
 "metadata": {
  "kernelspec": {
   "display_name": "Python 3 (ipykernel)",
   "language": "python",
   "name": "python3"
  },
  "language_info": {
   "codemirror_mode": {
    "name": "ipython",
    "version": 3
   },
   "file_extension": ".py",
   "mimetype": "text/x-python",
   "name": "python",
   "nbconvert_exporter": "python",
   "pygments_lexer": "ipython3",
   "version": "3.10.10"
  }
 },
 "nbformat": 4,
 "nbformat_minor": 5
}
